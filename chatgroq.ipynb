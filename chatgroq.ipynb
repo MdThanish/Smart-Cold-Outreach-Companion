{
 "cells": [
  {
   "cell_type": "code",
   "execution_count": 1,
   "id": "2baa232b-362d-4c4e-8eff-09c62571a8a0",
   "metadata": {},
   "outputs": [
    {
     "name": "stdout",
     "output_type": "stream",
     "text": [
      "It's difficult to pinpoint the very first person to make food, as the history of cooking dates back to prehistoric times and is closely tied to the evolution of human societies. However, I can provide some insights into the early history of cooking and the people who likely played a significant role in shaping the way we prepare and consume food.\n",
      "\n",
      "**Early Evidence of Cooking**\n",
      "\n",
      "The earliest evidence of cooking dates back to around 250,000 years ago, during the Paleolithic era. Archaeologists have discovered evidence of controlled fire use and cooking at various sites around the world, including:\n",
      "\n",
      "1. **Swartkrans, South Africa**: Fossilized bones of early humans, such as Homo erectus, have been found with evidence of cooking, dating back to around 250,000 years ago.\n",
      "2. **Qesem Cave, Israel**: Excavations have revealed evidence of controlled fire use and cooking, dating back to around 300,000 years ago.\n",
      "3. **Hearths, Europe**: Archaeologists have discovered ancient hearths, or cooking pits, in various parts of Europe, dating back to around 200,000 years ago.\n",
      "\n",
      "**Early Cooks**\n",
      "\n",
      "While we can't identify a single person as the \"first\" cook, we can look at some of the early human societies that likely played a significant role in shaping the way we prepare and consume food. Some of these societies include:\n",
      "\n",
      "1. **Homo erectus**: This early human species is believed to have been one of the first to control fire and cook food.\n",
      "2. **Neanderthals**: Neanderthals, who lived in Europe and Asia from around 400,000 to 40,000 years ago, are known to have cooked their food and used tools to prepare meals.\n",
      "3. **Early Homo sapiens**: The first modern humans, who emerged in Africa around 300,000 years ago, likely continued to develop and refine cooking techniques.\n",
      "\n",
      "**Notable Early Cooks**\n",
      "\n",
      "While we can't identify a single person as the \"first\" cook, there are some notable early cooks who have been documented in history and literature. For example:\n",
      "\n",
      "1. **Apicius**: A Roman gourmet and chef, Apicius is credited with writing one of the earliest known cookbooks, \"De Re Coquinaria,\" around 300 AD.\n",
      "2. **Archestratus**: A Greek chef and food writer, Archestratus is believed to have written one of the earliest known cookbooks, \"The Life of Luxury,\" around 350 BC.\n",
      "\n",
      "In summary, while we can't pinpoint a single person as the \"first\" cook, it's clear that early human societies, such as Homo erectus, Neanderthals, and early Homo sapiens, played a significant role in shaping the way we prepare and consume food.\n"
     ]
    }
   ],
   "source": [
    "from langchain_groq import ChatGroq\n",
    "\n",
    "llm = ChatGroq(\n",
    "    temperature=0, \n",
    "    groq_api_key='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', \n",
    "    model_name=\"llama-3.1-70b-versatile\"\n",
    ")\n",
    "\n",
    "response = llm.invoke(\"The first person to make food\")\n",
    "print(response.content)"
   ]
  },
  {
   "cell_type": "code",
   "execution_count": null,
   "id": "42c6c691-6516-4575-8601-92f5f9f7fe9d",
   "metadata": {},
   "outputs": [],
   "source": []
  }
 ],
 "metadata": {
  "kernelspec": {
   "display_name": "Python 3 (ipykernel)",
   "language": "python",
   "name": "python3"
  },
  "language_info": {
   "codemirror_mode": {
    "name": "ipython",
    "version": 3
   },
   "file_extension": ".py",
   "mimetype": "text/x-python",
   "name": "python",
   "nbconvert_exporter": "python",
   "pygments_lexer": "ipython3",
   "version": "3.12.1"
  }
 },
 "nbformat": 4,
 "nbformat_minor": 5
}
