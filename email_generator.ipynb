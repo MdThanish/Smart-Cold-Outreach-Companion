{
 "cells": [
  {
   "cell_type": "code",
   "execution_count": 6,
   "id": "53740ef5-0bf1-4d90-a5bd-45fb7c066cd3",
   "metadata": {},
   "outputs": [],
   "source": [
    "from langchain_groq import ChatGroq"
   ]
  },
  {
   "cell_type": "code",
   "execution_count": 7,
   "id": "863fbd31-73cc-4e12-a5bc-0c8373830891",
   "metadata": {},
   "outputs": [
    {
     "name": "stdout",
     "output_type": "stream",
     "text": [
      "The invention of the first powered, heavier-than-air aircraft is credited to the Wright brothers, Orville and Wilbur Wright. They designed, built, and flew the first successful airplane on December 17, 1903.\n",
      "\n",
      "However, there were other inventors and aviation pioneers who made significant contributions to the development of flight before the Wright brothers. Some notable examples include:\n",
      "\n",
      "1. Sir George Cayley (1773-1857): An English engineer and inventor, Cayley is often credited with designing the first successful glider in 1853. He also identified the principles of lift, drag, and thrust that are still used in aircraft design today.\n",
      "2. Otto Lilienthal (1848-1896): A German engineer and aviation pioneer, Lilienthal made significant contributions to the development of gliders and was a major influence on the Wright brothers.\n",
      "3. Octave Chanute (1832-1910): A French-American engineer and aviation pioneer, Chanute was a prominent figure in the development of aviation in the late 19th and early 20th centuries. He designed and built several gliders and powered aircraft, and was a mentor to the Wright brothers.\n",
      "\n",
      "But if we consider the first powered, controlled, and sustained flight, it was achieved by the Wright brothers on December 17, 1903. On that day, Orville piloted the first flight, which lasted for 12 seconds and covered a distance of 120 feet. Wilbur piloted the fourth and final flight of the day, which lasted for 59 seconds and covered a distance of 852 feet.\n",
      "\n",
      "So, while there were other inventors and aviation pioneers who made significant contributions to the development of flight, the Wright brothers are credited with achieving the first powered, controlled, and sustained flight of an airplane.\n"
     ]
    }
   ],
   "source": [
    "llm = ChatGroq(\n",
    "    temperature=0, \n",
    "    groq_api_key='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', \n",
    "    model_name=\"llama-3.1-70b-versatile\"\n",
    ")\n",
    "\n",
    "response = llm.invoke(\"The first person to made aeroplane\")\n",
    "print(response.content)"
   ]
  },
  {
   "cell_type": "code",
   "execution_count": 13,
   "id": "c45cb5ab-377a-41d9-b8d3-2bb0bf665061",
   "metadata": {},
   "outputs": [
    {
     "name": "stdout",
     "output_type": "stream",
     "text": [
      "Data Engineer, FinTech - Hyderabad, India | Uber Careers \n",
      "\n",
      "\n",
      "\n",
      "        \n",
      "\n",
      "Please enable JavascriptPlease enable JavascriptSkip to main content\n",
      "\n",
      "Uber CareersJob search,Data Engineer, FinTechData, Engineering in Hyderabad, IndiaApply NowAbout the RoleWe are seeking a strong and passionate data engineer with experience in large scale system implementation, with a focus on complex data pipelines. The candidate must be able to design and drive large projects from inception to production. The right person will work with stakeholders, analysts, scientists to gather requirements and translate them into a data engineering roadmap. Must be a great communicator, team player, and a technical powerhouse.---- What the Candidate Will Do ----Collaborate with engineering/product/analyst teams across tech sites to collectively accomplish OKRs to take Uber forward.Enrich data layers to effectively deal with the next generation of products which are a result of Uber's big bold bets.Design and build data pipelines to schedule & orchestrate a variety of tasks such as extract, cleanse, transform, enrich & load data as per the business needs.---- Basic Qualifications ----Strong SQL skillsStrong in Data Warehousing and Data Modelling conceptsHands on experience in Hadoop tech stack:HDFS, Hive, Oozie, Airflow, MapReduce, Spark.Programming languages - Python, Java, Scala etc.Experience in building ETL Data PipelinesPerformance Troubleshooting and TuningWe welcome people from all backgrounds who seek the opportunity to help build a future where everyone and everything can move independently. If you have the curiosity, passion, and collaborative spirit, work with us, and let’s move the world forward, together.Offices continue to be central to collaboration and Uber’s cultural identity. Unless formally approved to work fully remotely, Uber expects employees to spend at least half of their work time in their assigned office. For certain roles, such as those based at green-light hubs, employees are expected to be in-office for 100% of their time. Please speak with your recruiter to better understand in-office expectations for this role.*Accommodations may be available based on religious and/or medical conditions, or as required by applicable law. To request an accommodation, please reach out to accommodations@uber.com.Apply Now\n",
      "\n",
      "\n",
      "\n",
      "                    See our Candidate Privacy Statement\n",
      "                \n",
      "\n",
      "Uber is proud to be an equal opportunity workplace. We are committed to equal employment opportunity regardless of race, color, ancestry, religion, sex, national origin, sexual orientation, age, citizenship, marital status, disability, gender identity, Veteran Status, or any other characteristic protected by law.\n",
      "UberVisit Help CenterCompanyAbout usNewsroomInvestorsCareers blogCareersDiversityStart job searchProductsRideDriveDeliverEatUber for BusinessUber FreightGlobal citizenshipSafetyDiversity and InclusionSustainabilityfacebooktwitteryoutubelinkedininstagramGlobeEnglishLocation markerMadurai© 2024 Uber Technologies Inc.PrivacyAccessibilityTermsTeamsDepartmentsBusiness Development & SalesCommunicationsCommunity OperationsData Science & AnalyticsDesignEngineeringFinanceLegalMarketingOperations & LaunchPeople & PlacesProductPublic PolicySafety, Security & InsuranceOfferingsRidesharingUber EatsUber for BusinessUber FreightLocationsAsia PacificBengaluruGurugramManila & PampangaHong KongHyderabadSingaporeSeoul SydneyTokyoTaipeiVisakhapatnamEurope, Middle East & AfricaAarhusAmsterdamBerlinLondonParisLatin AmericaBogotáMexico CitySantiagoSao PauloUnited States & CanadaChicagoDallasNew York CitySan Francisco Bay AreaSeattleTorontoUniversityInside UberBlogBenefitsDiversity, Equity, & InclusionGrow at UberHow we hireProgramsLife at UberValuesProductsENSelect your preferred languageالعربيةбългарски езикবাংলাČeštinaDanskDeutschελληνικάEnglishEspañol (Internacional)Español (España)Eesti KeelSuomiFrançais (Canada)Français (France)עבריתहिन्दीHrvatskiMagyarItaliano日本語ಕನ್ನಡ한국어LietuviųमराठीNorsk BokmålNederlandsPolskiPortuguês (Brasil)Português (Portugal)RomânăPусскийසිංහලSlovenčinaSlovenščinaSvenskaKiswahiliதமிழ்తెలుగుTürkçeукраїнська моваاردو简体中文香港中文版繁體中文HomeHomeCar frontRide Steering wheelDriveRestaurantEatWineMerchantsTruckFreightTrain,TransitBike jumpBike & scootBriefcaseBusinessMoneyMoney\n",
      "\n",
      "\n",
      "\n",
      "\n",
      "\n",
      "\n",
      "\n",
      "\n",
      "\n",
      "\n",
      "\n",
      "\n"
     ]
    }
   ],
   "source": [
    "from langchain_community.document_loaders import WebBaseLoader\n",
    "\n",
    "loader = WebBaseLoader(\"https://www.uber.com/global/en/careers/list/133792/\")\n",
    "page_data = loader.load().pop().page_content\n",
    "print(page_data)"
   ]
  },
  {
   "cell_type": "code",
   "execution_count": 15,
   "id": "546823db-916e-40a3-82d2-277006a36f70",
   "metadata": {},
   "outputs": [
    {
     "name": "stdout",
     "output_type": "stream",
     "text": [
      "```json\n",
      "{\n",
      "  \"role\": \"Data Engineer, FinTech\",\n",
      "  \"experience\": \"Not specified\",\n",
      "  \"skills\": [\n",
      "    \"Strong SQL skills\",\n",
      "    \"Data Warehousing and Data Modelling concepts\",\n",
      "    \"Hadoop tech stack: HDFS, Hive, Oozie, Airflow, MapReduce, Spark\",\n",
      "    \"Programming languages: Python, Java, Scala\",\n",
      "    \"Experience in building ETL Data Pipelines\",\n",
      "    \"Performance Troubleshooting and Tuning\"\n",
      "  ],\n",
      "  \"description\": \"We are seeking a strong and passionate data engineer with experience in large scale system implementation, with a focus on complex data pipelines. The candidate must be able to design and drive large projects from inception to production. The right person will work with stakeholders, analysts, scientists to gather requirements and translate them into a data engineering roadmap. Must be a great communicator, team player, and a technical powerhouse.\"\n",
      "}\n",
      "```\n"
     ]
    }
   ],
   "source": [
    "from langchain_core.prompts import PromptTemplate\n",
    "\n",
    "prompt_extract = PromptTemplate.from_template(\n",
    "        \"\"\"\n",
    "        ### SCRAPED TEXT FROM WEBSITE:\n",
    "        {page_data}\n",
    "        ### INSTRUCTION:\n",
    "        The scraped text is from the career's page of a website.\n",
    "        Your job is to extract the job postings and return them in JSON format containing the \n",
    "        following keys: `role`, `experience`, `skills` and `description`.\n",
    "        Only return the valid JSON.\n",
    "        ### VALID JSON (NO PREAMBLE):    \n",
    "        \"\"\"\n",
    ")\n",
    "\n",
    "chain_extract = prompt_extract | llm \n",
    "res = chain_extract.invoke(input={'page_data':page_data})\n",
    "print(res.content)"
   ]
  },
  {
   "cell_type": "code",
   "execution_count": 16,
   "id": "eeb6032d-04f0-47cd-86a2-41801c70ebf6",
   "metadata": {},
   "outputs": [
    {
     "data": {
      "text/plain": [
       "{'role': 'Data Engineer, FinTech',\n",
       " 'experience': 'Not specified',\n",
       " 'skills': ['Strong SQL skills',\n",
       "  'Data Warehousing and Data Modelling concepts',\n",
       "  'Hadoop tech stack: HDFS, Hive, Oozie, Airflow, MapReduce, Spark',\n",
       "  'Programming languages: Python, Java, Scala',\n",
       "  'Experience in building ETL Data Pipelines',\n",
       "  'Performance Troubleshooting and Tuning'],\n",
       " 'description': 'We are seeking a strong and passionate data engineer with experience in large scale system implementation, with a focus on complex data pipelines. The candidate must be able to design and drive large projects from inception to production. The right person will work with stakeholders, analysts, scientists to gather requirements and translate them into a data engineering roadmap. Must be a great communicator, team player, and a technical powerhouse.'}"
      ]
     },
     "execution_count": 16,
     "metadata": {},
     "output_type": "execute_result"
    }
   ],
   "source": [
    "from langchain_core.output_parsers import JsonOutputParser\n",
    "\n",
    "json_parser = JsonOutputParser()\n",
    "json_res = json_parser.parse(res.content)\n",
    "json_res"
   ]
  },
  {
   "cell_type": "code",
   "execution_count": 17,
   "id": "f165483f-a8a5-470a-9d04-6f46cefaa7cf",
   "metadata": {},
   "outputs": [
    {
     "data": {
      "text/plain": [
       "dict"
      ]
     },
     "execution_count": 17,
     "metadata": {},
     "output_type": "execute_result"
    }
   ],
   "source": [
    "type(json_res)"
   ]
  },
  {
   "cell_type": "code",
   "execution_count": 19,
   "id": "e05e5bcd-5cb9-4ebb-bdad-8c93a6c2bc94",
   "metadata": {},
   "outputs": [
    {
     "data": {
      "text/html": [
       "<div>\n",
       "<style scoped>\n",
       "    .dataframe tbody tr th:only-of-type {\n",
       "        vertical-align: middle;\n",
       "    }\n",
       "\n",
       "    .dataframe tbody tr th {\n",
       "        vertical-align: top;\n",
       "    }\n",
       "\n",
       "    .dataframe thead th {\n",
       "        text-align: right;\n",
       "    }\n",
       "</style>\n",
       "<table border=\"1\" class=\"dataframe\">\n",
       "  <thead>\n",
       "    <tr style=\"text-align: right;\">\n",
       "      <th></th>\n",
       "      <th>Techstack</th>\n",
       "      <th>Links</th>\n",
       "    </tr>\n",
       "  </thead>\n",
       "  <tbody>\n",
       "    <tr>\n",
       "      <th>0</th>\n",
       "      <td>React, Node.js, MongoDB</td>\n",
       "      <td>https://example.com/react-portfolio</td>\n",
       "    </tr>\n",
       "    <tr>\n",
       "      <th>1</th>\n",
       "      <td>Angular,.NET, SQL Server</td>\n",
       "      <td>https://example.com/angular-portfolio</td>\n",
       "    </tr>\n",
       "    <tr>\n",
       "      <th>2</th>\n",
       "      <td>Vue.js, Ruby on Rails, PostgreSQL</td>\n",
       "      <td>https://example.com/vue-portfolio</td>\n",
       "    </tr>\n",
       "    <tr>\n",
       "      <th>3</th>\n",
       "      <td>Python, Django, MySQL</td>\n",
       "      <td>https://example.com/python-portfolio</td>\n",
       "    </tr>\n",
       "    <tr>\n",
       "      <th>4</th>\n",
       "      <td>Java, Spring Boot, Oracle</td>\n",
       "      <td>https://example.com/java-portfolio</td>\n",
       "    </tr>\n",
       "    <tr>\n",
       "      <th>5</th>\n",
       "      <td>Flutter, Firebase, GraphQL</td>\n",
       "      <td>https://example.com/flutter-portfolio</td>\n",
       "    </tr>\n",
       "    <tr>\n",
       "      <th>6</th>\n",
       "      <td>WordPress, PHP, MySQL</td>\n",
       "      <td>https://example.com/wordpress-portfolio</td>\n",
       "    </tr>\n",
       "    <tr>\n",
       "      <th>7</th>\n",
       "      <td>Magento, PHP, MySQL</td>\n",
       "      <td>https://example.com/magento-portfolio</td>\n",
       "    </tr>\n",
       "    <tr>\n",
       "      <th>8</th>\n",
       "      <td>React Native, Node.js, MongoDB</td>\n",
       "      <td>https://example.com/react-native-portfolio</td>\n",
       "    </tr>\n",
       "    <tr>\n",
       "      <th>9</th>\n",
       "      <td>iOS, Swift, Core Data</td>\n",
       "      <td>https://example.com/ios-portfolio</td>\n",
       "    </tr>\n",
       "    <tr>\n",
       "      <th>10</th>\n",
       "      <td>Android, Java, Room Persistence</td>\n",
       "      <td>https://example.com/android-portfolio</td>\n",
       "    </tr>\n",
       "    <tr>\n",
       "      <th>11</th>\n",
       "      <td>Kotlin, Android, Firebase</td>\n",
       "      <td>https://example.com/kotlin-android-portfolio</td>\n",
       "    </tr>\n",
       "    <tr>\n",
       "      <th>12</th>\n",
       "      <td>Android TV, Kotlin, Android NDK</td>\n",
       "      <td>https://example.com/android-tv-portfolio</td>\n",
       "    </tr>\n",
       "    <tr>\n",
       "      <th>13</th>\n",
       "      <td>iOS, Swift, ARKit</td>\n",
       "      <td>https://example.com/ios-ar-portfolio</td>\n",
       "    </tr>\n",
       "    <tr>\n",
       "      <th>14</th>\n",
       "      <td>Cross-platform, Xamarin, Azure</td>\n",
       "      <td>https://example.com/xamarin-portfolio</td>\n",
       "    </tr>\n",
       "    <tr>\n",
       "      <th>15</th>\n",
       "      <td>Backend, Kotlin, Spring Boot</td>\n",
       "      <td>https://example.com/kotlin-backend-portfolio</td>\n",
       "    </tr>\n",
       "    <tr>\n",
       "      <th>16</th>\n",
       "      <td>Frontend, TypeScript, Angular</td>\n",
       "      <td>https://example.com/typescript-frontend-portfolio</td>\n",
       "    </tr>\n",
       "    <tr>\n",
       "      <th>17</th>\n",
       "      <td>Full-stack, JavaScript, Express.js</td>\n",
       "      <td>https://example.com/full-stack-js-portfolio</td>\n",
       "    </tr>\n",
       "    <tr>\n",
       "      <th>18</th>\n",
       "      <td>Machine Learning, Python, TensorFlow</td>\n",
       "      <td>https://example.com/ml-python-portfolio</td>\n",
       "    </tr>\n",
       "    <tr>\n",
       "      <th>19</th>\n",
       "      <td>DevOps, Jenkins, Docker</td>\n",
       "      <td>https://example.com/devops-portfolio</td>\n",
       "    </tr>\n",
       "  </tbody>\n",
       "</table>\n",
       "</div>"
      ],
      "text/plain": [
       "                               Techstack  \\\n",
       "0                React, Node.js, MongoDB   \n",
       "1               Angular,.NET, SQL Server   \n",
       "2      Vue.js, Ruby on Rails, PostgreSQL   \n",
       "3                  Python, Django, MySQL   \n",
       "4              Java, Spring Boot, Oracle   \n",
       "5             Flutter, Firebase, GraphQL   \n",
       "6                  WordPress, PHP, MySQL   \n",
       "7                    Magento, PHP, MySQL   \n",
       "8         React Native, Node.js, MongoDB   \n",
       "9                  iOS, Swift, Core Data   \n",
       "10       Android, Java, Room Persistence   \n",
       "11             Kotlin, Android, Firebase   \n",
       "12       Android TV, Kotlin, Android NDK   \n",
       "13                     iOS, Swift, ARKit   \n",
       "14        Cross-platform, Xamarin, Azure   \n",
       "15          Backend, Kotlin, Spring Boot   \n",
       "16         Frontend, TypeScript, Angular   \n",
       "17    Full-stack, JavaScript, Express.js   \n",
       "18  Machine Learning, Python, TensorFlow   \n",
       "19               DevOps, Jenkins, Docker   \n",
       "\n",
       "                                                Links  \n",
       "0                 https://example.com/react-portfolio  \n",
       "1               https://example.com/angular-portfolio  \n",
       "2                   https://example.com/vue-portfolio  \n",
       "3                https://example.com/python-portfolio  \n",
       "4                  https://example.com/java-portfolio  \n",
       "5               https://example.com/flutter-portfolio  \n",
       "6             https://example.com/wordpress-portfolio  \n",
       "7               https://example.com/magento-portfolio  \n",
       "8          https://example.com/react-native-portfolio  \n",
       "9                   https://example.com/ios-portfolio  \n",
       "10              https://example.com/android-portfolio  \n",
       "11       https://example.com/kotlin-android-portfolio  \n",
       "12           https://example.com/android-tv-portfolio  \n",
       "13               https://example.com/ios-ar-portfolio  \n",
       "14              https://example.com/xamarin-portfolio  \n",
       "15       https://example.com/kotlin-backend-portfolio  \n",
       "16  https://example.com/typescript-frontend-portfolio  \n",
       "17        https://example.com/full-stack-js-portfolio  \n",
       "18            https://example.com/ml-python-portfolio  \n",
       "19               https://example.com/devops-portfolio  "
      ]
     },
     "execution_count": 19,
     "metadata": {},
     "output_type": "execute_result"
    }
   ],
   "source": [
    "import pandas as pd\n",
    "df = pd.read_csv(\"my_portfolio.csv\")\n",
    "df"
   ]
  },
  {
   "cell_type": "code",
   "execution_count": 20,
   "id": "ec2ceea8-c04f-4953-ac3a-9d835b9a2422",
   "metadata": {},
   "outputs": [],
   "source": [
    "import uuid\n",
    "import chromadb\n",
    "\n",
    "client = chromadb.PersistentClient('vectorstore')\n",
    "collection = client.get_or_create_collection(name=\"portfolio\")\n",
    "\n",
    "if not collection.count():\n",
    "    for _, row in df.iterrows():\n",
    "        collection.add(documents=row[\"Techstack\"],\n",
    "                       metadatas={\"links\": row[\"Links\"]},\n",
    "                       ids=[str(uuid.uuid4())])"
   ]
  },
  {
   "cell_type": "code",
   "execution_count": 22,
   "id": "8296d7bd-f434-4f0b-82c6-836a28a3dd60",
   "metadata": {},
   "outputs": [
    {
     "data": {
      "text/plain": [
       "[[{'links': 'https://example.com/angular-portfolio'},\n",
       "  {'links': 'https://example.com/typescript-frontend-portfolio'}],\n",
       " [{'links': 'https://example.com/react-native-portfolio'},\n",
       "  {'links': 'https://example.com/react-portfolio'}]]"
      ]
     },
     "execution_count": 22,
     "metadata": {},
     "output_type": "execute_result"
    }
   ],
   "source": [
    "links = collection.query(query_texts=[\"Experience in Angular\",\"Expertise in React Native\"], n_results=2).get('metadatas', [])\n",
    "links"
   ]
  },
  {
   "cell_type": "code",
   "execution_count": 23,
   "id": "70d9aacd-5c12-45a8-ac0c-6fd4aaabeefb",
   "metadata": {},
   "outputs": [
    {
     "data": {
      "text/plain": [
       "['Strong SQL skills',\n",
       " 'Data Warehousing and Data Modelling concepts',\n",
       " 'Hadoop tech stack: HDFS, Hive, Oozie, Airflow, MapReduce, Spark',\n",
       " 'Programming languages: Python, Java, Scala',\n",
       " 'Experience in building ETL Data Pipelines',\n",
       " 'Performance Troubleshooting and Tuning']"
      ]
     },
     "execution_count": 23,
     "metadata": {},
     "output_type": "execute_result"
    }
   ],
   "source": [
    "job = json_res\n",
    "job['skills']"
   ]
  },
  {
   "cell_type": "code",
   "execution_count": 24,
   "id": "f3eec7cd-2ada-43a9-bdaf-b62b875164da",
   "metadata": {},
   "outputs": [
    {
     "data": {
      "text/plain": [
       "[[{'links': 'https://example.com/magento-portfolio'},\n",
       "  {'links': 'https://example.com/python-portfolio'}],\n",
       " [{'links': 'https://example.com/magento-portfolio'},\n",
       "  {'links': 'https://example.com/ml-python-portfolio'}],\n",
       " [{'links': 'https://example.com/flutter-portfolio'},\n",
       "  {'links': 'https://example.com/kotlin-android-portfolio'}],\n",
       " [{'links': 'https://example.com/ml-python-portfolio'},\n",
       "  {'links': 'https://example.com/python-portfolio'}],\n",
       " [{'links': 'https://example.com/devops-portfolio'},\n",
       "  {'links': 'https://example.com/ml-python-portfolio'}],\n",
       " [{'links': 'https://example.com/ml-python-portfolio'},\n",
       "  {'links': 'https://example.com/magento-portfolio'}]]"
      ]
     },
     "execution_count": 24,
     "metadata": {},
     "output_type": "execute_result"
    }
   ],
   "source": [
    "links = collection.query(query_texts=job['skills'], n_results=2).get('metadatas', [])\n",
    "links"
   ]
  },
  {
   "cell_type": "code",
   "execution_count": 25,
   "id": "84f91d84-a62f-46b8-bb95-440ba65db5d5",
   "metadata": {},
   "outputs": [
    {
     "name": "stdout",
     "output_type": "stream",
     "text": [
      "Subject: Expert Data Engineering Solutions for Your FinTech Needs\n",
      "\n",
      "Dear Hiring Manager,\n",
      "\n",
      "I came across your job posting for a Data Engineer, FinTech, and I'm excited to introduce you to TTT, an AI & Software Consulting company that can help you achieve your data engineering goals. With our expertise in designing and implementing large-scale data pipelines, we're confident that we can support your organization in driving complex data projects from inception to production.\n",
      "\n",
      "Our team of skilled engineers has extensive experience in working with Hadoop tech stack, including HDFS, Hive, Oozie, Airflow, MapReduce, and Spark. We're also proficient in programming languages such as Python, Java, and Scala, which aligns with your requirements. Our expertise in building ETL Data Pipelines and Performance Troubleshooting and Tuning will ensure that your data engineering roadmap is executed efficiently.\n",
      "\n",
      "At TTT, we've empowered numerous enterprises with tailored solutions that foster scalability, process optimization, cost reduction, and heightened overall efficiency. Our portfolio showcases our capabilities in delivering high-quality solutions. For instance, you can check out our work on machine learning and Python development at https://example.com/ml-python-portfolio and https://example.com/python-portfolio.\n",
      "\n",
      "We'd love to discuss how our expertise can support your organization's data engineering needs. If you're interested in learning more about our services, please don't hesitate to contact me. I'd be more than happy to schedule a call to explore how we can collaborate.\n",
      "\n",
      "Best regards,\n",
      "\n",
      "Mohamed Thanish\n",
      "Software Engineer\n",
      "TTT\n",
      "AI & Software Consulting Company\n"
     ]
    }
   ],
   "source": [
    "prompt_email = PromptTemplate.from_template(\n",
    "    \"\"\"\n",
    "    ### JOB DESCRIPTION:\n",
    "    {job_description}\n",
    "    \n",
    "    ### INSTRUCTION:\n",
    "    You are Mohamed Thanish, a Software Engineer at TTT. TTT is an AI & Software Consulting company dedicated to facilitating\n",
    "    the seamless integration of business processes through automated tools.\n",
    "    Over our experience, we have empowered numerous enterprises with tailored solutions, fostering scalability,\n",
    "    process optimization, cost reduction, and heightened overall efficiency.\n",
    "    Your job is to write a cold email to the client regarding the job mentioned above, describing the capability of TTT \n",
    "    in fulfilling their needs.\n",
    "    Also add the most relevant ones from the following links to showcase TTT's portfolio: {link_list}\n",
    "    Remember you are Mohamed Thanish, Software Engineer at TTT.\n",
    "    Do not provide a preamble.\n",
    "    ### EMAIL (NO PREAMBLE):\n",
    "    \n",
    "    \"\"\"\n",
    ")\n",
    "\n",
    "chain_email = prompt_email | llm\n",
    "res = chain_email.invoke({\"job_description\": str(job), \"link_list\": links})\n",
    "print(res.content)\n"
   ]
  },
  {
   "cell_type": "code",
   "execution_count": 26,
   "id": "e35c5c59-ddc6-4722-96c2-ec408c75222b",
   "metadata": {},
   "outputs": [
    {
     "data": {
      "text/plain": [
       "'C:\\\\Users\\\\Moham\\\\cold_email_generation_tool'"
      ]
     },
     "execution_count": 26,
     "metadata": {},
     "output_type": "execute_result"
    }
   ],
   "source": [
    "import os\n",
    "os.getcwd()\n"
   ]
  },
  {
   "cell_type": "code",
   "execution_count": null,
   "id": "af4045c5-93a8-4a8b-a983-e2154bcef069",
   "metadata": {},
   "outputs": [],
   "source": []
  }
 ],
 "metadata": {
  "kernelspec": {
   "display_name": "Python 3 (ipykernel)",
   "language": "python",
   "name": "python3"
  },
  "language_info": {
   "codemirror_mode": {
    "name": "ipython",
    "version": 3
   },
   "file_extension": ".py",
   "mimetype": "text/x-python",
   "name": "python",
   "nbconvert_exporter": "python",
   "pygments_lexer": "ipython3",
   "version": "3.12.1"
  }
 },
 "nbformat": 4,
 "nbformat_minor": 5
}
